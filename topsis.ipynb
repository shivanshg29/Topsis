{
 "cells": [
  {
   "cell_type": "code",
   "execution_count": 8,
   "metadata": {},
   "outputs": [],
   "source": [
    "import pandas as pd\n",
    "import numpy as np"
   ]
  },
  {
   "cell_type": "markdown",
   "metadata": {},
   "source": [
    "## Parsing Weights & impacts"
   ]
  },
  {
   "cell_type": "code",
   "execution_count": 9,
   "metadata": {},
   "outputs": [],
   "source": [
    "def parse_weights(df,weights,impacts):\n",
    "    if len(impacts.split(',')) != df.shape[1]-1 or len(weights.split(',')) != df.shape[1]-1:\n",
    "        raise ValueError(\"Number of impacts and weights must match the number of columns in the DataFrame.\")\n",
    "\n",
    "    w = [float(weight) for weight in weights.split(\",\")]\n",
    "    imp = [1 if impact == '+' else 0 for impact in impacts.split(\",\")]\n",
    "    \n",
    "    return w,imp\n"
   ]
  },
  {
   "cell_type": "markdown",
   "metadata": {},
   "source": [
    "## Making Normalized Decesion Matrix"
   ]
  },
  {
   "cell_type": "code",
   "execution_count": 10,
   "metadata": {},
   "outputs": [],
   "source": [
    "def normalize_dec_mat(df,w):\n",
    "    rsumsq=0\n",
    "    for i,col in enumerate(df.columns[1:]):\n",
    "        rsumsq=((df[col]**2).sum())**0.5\n",
    "        df.loc[:df.shape[0] - 1, col] /= rsumsq/w[i]\n",
    "    return df"
   ]
  },
  {
   "cell_type": "markdown",
   "metadata": {},
   "source": [
    "## Ideal Vpos & Vneg of each column"
   ]
  },
  {
   "cell_type": "code",
   "execution_count": 11,
   "metadata": {},
   "outputs": [],
   "source": [
    "def calculate_ideal_solutions(norm_df, impacts):\n",
    "    vpos = [] \n",
    "    vneg = [] \n",
    "\n",
    "    for i, col in enumerate(norm_df.columns[1:]):\n",
    "        if impacts[i] == 1: \n",
    "            vpos.append(norm_df[col].max())\n",
    "            vneg.append(norm_df[col].min())\n",
    "        else:\n",
    "            vpos.append(norm_df[col].min())\n",
    "            vneg.append(norm_df[col].max())\n",
    "\n",
    "    return vpos, vneg"
   ]
  },
  {
   "cell_type": "markdown",
   "metadata": {},
   "source": [
    "## Calculate Topsis Score"
   ]
  },
  {
   "cell_type": "code",
   "execution_count": 12,
   "metadata": {},
   "outputs": [],
   "source": [
    "def calculate_topsis_scores(norm_df, vpos, vneg):\n",
    "    spos = []\n",
    "    sneg = []\n",
    "\n",
    "    for i in range(len(norm_df)):\n",
    "        spos.append(sum((norm_df.iloc[i, 1:] - vpos) ** 2) ** 0.5)\n",
    "        sneg.append(sum((norm_df.iloc[i, 1:] - vneg) ** 2) ** 0.5)\n",
    "\n",
    "    scores = [sneg[i] / (sneg[i] + spos[i]) for i in range(len(spos))]\n",
    "    return scores"
   ]
  },
  {
   "cell_type": "markdown",
   "metadata": {},
   "source": [
    "## TOPSIS"
   ]
  },
  {
   "cell_type": "code",
   "execution_count": 13,
   "metadata": {},
   "outputs": [],
   "source": [
    "def topsis(df,weights,impacts):\n",
    "    w,imp=parse_weights(df,weights,impacts)\n",
    "    df=normalize_dec_mat(df,w)\n",
    "    vpos,vneg=calculate_ideal_solutions(df,imp)\n",
    "    scores = calculate_topsis_scores(df, vpos, vneg)\n",
    "    df['Topsis Score'] = scores\n",
    "    df['Rank'] = df['Topsis Score'].rank(ascending=False).astype(int)\n",
    "    return df\n",
    "    "
   ]
  },
  {
   "cell_type": "code",
   "execution_count": 16,
   "metadata": {},
   "outputs": [
    {
     "data": {
      "text/html": [
       "<div>\n",
       "<style scoped>\n",
       "    .dataframe tbody tr th:only-of-type {\n",
       "        vertical-align: middle;\n",
       "    }\n",
       "\n",
       "    .dataframe tbody tr th {\n",
       "        vertical-align: top;\n",
       "    }\n",
       "\n",
       "    .dataframe thead th {\n",
       "        text-align: right;\n",
       "    }\n",
       "</style>\n",
       "<table border=\"1\" class=\"dataframe\">\n",
       "  <thead>\n",
       "    <tr style=\"text-align: right;\">\n",
       "      <th></th>\n",
       "      <th>Fund Name</th>\n",
       "      <th>P1</th>\n",
       "      <th>P2</th>\n",
       "      <th>P3</th>\n",
       "      <th>P4</th>\n",
       "      <th>P5</th>\n",
       "      <th>Topsis Score</th>\n",
       "      <th>Rank</th>\n",
       "    </tr>\n",
       "  </thead>\n",
       "  <tbody>\n",
       "    <tr>\n",
       "      <th>0</th>\n",
       "      <td>M1</td>\n",
       "      <td>0.087769</td>\n",
       "      <td>0.086100</td>\n",
       "      <td>0.105358</td>\n",
       "      <td>0.080635</td>\n",
       "      <td>0.083998</td>\n",
       "      <td>0.547124</td>\n",
       "      <td>3</td>\n",
       "    </tr>\n",
       "    <tr>\n",
       "      <th>1</th>\n",
       "      <td>M2</td>\n",
       "      <td>0.095083</td>\n",
       "      <td>0.100652</td>\n",
       "      <td>0.110076</td>\n",
       "      <td>0.060715</td>\n",
       "      <td>0.067452</td>\n",
       "      <td>0.484122</td>\n",
       "      <td>5</td>\n",
       "    </tr>\n",
       "    <tr>\n",
       "      <th>2</th>\n",
       "      <td>M3</td>\n",
       "      <td>0.082545</td>\n",
       "      <td>0.075186</td>\n",
       "      <td>0.075481</td>\n",
       "      <td>0.089445</td>\n",
       "      <td>0.088268</td>\n",
       "      <td>0.444211</td>\n",
       "      <td>7</td>\n",
       "    </tr>\n",
       "    <tr>\n",
       "      <th>3</th>\n",
       "      <td>M4</td>\n",
       "      <td>0.081500</td>\n",
       "      <td>0.073973</td>\n",
       "      <td>0.100641</td>\n",
       "      <td>0.081209</td>\n",
       "      <td>0.083731</td>\n",
       "      <td>0.500429</td>\n",
       "      <td>4</td>\n",
       "    </tr>\n",
       "    <tr>\n",
       "      <th>4</th>\n",
       "      <td>M5</td>\n",
       "      <td>0.098218</td>\n",
       "      <td>0.106716</td>\n",
       "      <td>0.056610</td>\n",
       "      <td>0.119133</td>\n",
       "      <td>0.112820</td>\n",
       "      <td>0.599571</td>\n",
       "      <td>2</td>\n",
       "    </tr>\n",
       "    <tr>\n",
       "      <th>5</th>\n",
       "      <td>M6</td>\n",
       "      <td>0.091949</td>\n",
       "      <td>0.093376</td>\n",
       "      <td>0.102213</td>\n",
       "      <td>0.098639</td>\n",
       "      <td>0.099477</td>\n",
       "      <td>0.685336</td>\n",
       "      <td>1</td>\n",
       "    </tr>\n",
       "    <tr>\n",
       "      <th>6</th>\n",
       "      <td>M7</td>\n",
       "      <td>0.068962</td>\n",
       "      <td>0.053358</td>\n",
       "      <td>0.083343</td>\n",
       "      <td>0.093659</td>\n",
       "      <td>0.092271</td>\n",
       "      <td>0.463212</td>\n",
       "      <td>6</td>\n",
       "    </tr>\n",
       "    <tr>\n",
       "      <th>7</th>\n",
       "      <td>M8</td>\n",
       "      <td>0.097173</td>\n",
       "      <td>0.104290</td>\n",
       "      <td>0.053465</td>\n",
       "      <td>0.070867</td>\n",
       "      <td>0.070388</td>\n",
       "      <td>0.365797</td>\n",
       "      <td>8</td>\n",
       "    </tr>\n",
       "  </tbody>\n",
       "</table>\n",
       "</div>"
      ],
      "text/plain": [
       "  Fund Name        P1        P2        P3        P4        P5  Topsis Score  \\\n",
       "0        M1  0.087769  0.086100  0.105358  0.080635  0.083998      0.547124   \n",
       "1        M2  0.095083  0.100652  0.110076  0.060715  0.067452      0.484122   \n",
       "2        M3  0.082545  0.075186  0.075481  0.089445  0.088268      0.444211   \n",
       "3        M4  0.081500  0.073973  0.100641  0.081209  0.083731      0.500429   \n",
       "4        M5  0.098218  0.106716  0.056610  0.119133  0.112820      0.599571   \n",
       "5        M6  0.091949  0.093376  0.102213  0.098639  0.099477      0.685336   \n",
       "6        M7  0.068962  0.053358  0.083343  0.093659  0.092271      0.463212   \n",
       "7        M8  0.097173  0.104290  0.053465  0.070867  0.070388      0.365797   \n",
       "\n",
       "   Rank  \n",
       "0     3  \n",
       "1     5  \n",
       "2     7  \n",
       "3     4  \n",
       "4     2  \n",
       "5     1  \n",
       "6     6  \n",
       "7     8  "
      ]
     },
     "execution_count": 16,
     "metadata": {},
     "output_type": "execute_result"
    }
   ],
   "source": [
    "df = pd.read_excel('data.xlsx')\n",
    "weights = \"0.25,0.25,0.25,0.25,0.25\"\n",
    "impacts = \"-,+,+,+,+\"\n",
    "topsis(df, weights, impacts)"
   ]
  },
  {
   "cell_type": "code",
   "execution_count": null,
   "metadata": {},
   "outputs": [],
   "source": []
  },
  {
   "cell_type": "code",
   "execution_count": null,
   "metadata": {},
   "outputs": [],
   "source": []
  }
 ],
 "metadata": {
  "kernelspec": {
   "display_name": "Python 3",
   "language": "python",
   "name": "python3"
  },
  "language_info": {
   "codemirror_mode": {
    "name": "ipython",
    "version": 3
   },
   "file_extension": ".py",
   "mimetype": "text/x-python",
   "name": "python",
   "nbconvert_exporter": "python",
   "pygments_lexer": "ipython3",
   "version": "3.11.5"
  }
 },
 "nbformat": 4,
 "nbformat_minor": 2
}
