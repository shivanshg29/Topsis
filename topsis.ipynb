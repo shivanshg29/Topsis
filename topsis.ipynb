{
 "cells": [
  {
   "cell_type": "code",
   "execution_count": 1,
   "metadata": {},
   "outputs": [],
   "source": [
    "import pandas as pd\n",
    "import numpy as np"
   ]
  },
  {
   "cell_type": "markdown",
   "metadata": {},
   "source": [
    "## Parsing Weights & impacts"
   ]
  },
  {
   "cell_type": "code",
   "execution_count": 2,
   "metadata": {},
   "outputs": [],
   "source": [
    "def parse_weights(df,weights,impacts):\n",
    "    if len(impacts.split(',')) != df.shape[1]-1 or len(weights.split(',')) != df.shape[1]-1:\n",
    "        raise ValueError(\"Number of impacts and weights must match the number of columns in the DataFrame.\")\n",
    "\n",
    "    w = [float(weight) for weight in weights.split(\",\")]\n",
    "    imp = [1 if impact == '+' else 0 for impact in impacts.split(\",\")]\n",
    "    \n",
    "    return w,imp\n"
   ]
  },
  {
   "cell_type": "markdown",
   "metadata": {},
   "source": [
    "## Making Normalized Decesion Matrix"
   ]
  },
  {
   "cell_type": "code",
   "execution_count": 3,
   "metadata": {},
   "outputs": [],
   "source": [
    "def normalize_dec_mat(df,w):\n",
    "    rsumsq=0\n",
    "    for i,col in enumerate(df.columns[1:]):\n",
    "        rsumsq=((df[col]**2).sum())**0.5\n",
    "        df.loc[:df.shape[0] - 1, col] /= rsumsq/w[i]\n",
    "    return df"
   ]
  },
  {
   "cell_type": "markdown",
   "metadata": {},
   "source": [
    "## Ideal Vpos & Vneg of each column"
   ]
  },
  {
   "cell_type": "code",
   "execution_count": 4,
   "metadata": {},
   "outputs": [],
   "source": [
    "def calculate_ideal_solutions(norm_df, impacts):\n",
    "    vpos = [] \n",
    "    vneg = [] \n",
    "\n",
    "    for i, col in enumerate(norm_df.columns[1:]):\n",
    "        if impacts[i] == 1: \n",
    "            vpos.append(norm_df[col].max())\n",
    "            vneg.append(norm_df[col].min())\n",
    "        else:\n",
    "            vpos.append(norm_df[col].min())\n",
    "            vneg.append(norm_df[col].max())\n",
    "\n",
    "    return vpos, vneg"
   ]
  },
  {
   "cell_type": "markdown",
   "metadata": {},
   "source": [
    "## Calculate Topsis Score"
   ]
  },
  {
   "cell_type": "code",
   "execution_count": 5,
   "metadata": {},
   "outputs": [],
   "source": [
    "def calculate_topsis_scores(norm_df, vpos, vneg):\n",
    "    spos = []\n",
    "    sneg = []\n",
    "\n",
    "    for i in range(len(norm_df)):\n",
    "        spos.append(sum((norm_df.iloc[i, 1:] - vpos) ** 2) ** 0.5)\n",
    "        sneg.append(sum((norm_df.iloc[i, 1:] - vneg) ** 2) ** 0.5)\n",
    "\n",
    "    scores = [sneg[i] / (sneg[i] + spos[i]) for i in range(len(spos))]\n",
    "    return scores"
   ]
  },
  {
   "cell_type": "markdown",
   "metadata": {},
   "source": [
    "## TOPSIS"
   ]
  },
  {
   "cell_type": "code",
   "execution_count": 6,
   "metadata": {},
   "outputs": [],
   "source": [
    "def topsis(df,weights,impacts):\n",
    "    w,imp=parse_weights(df,weights,impacts)\n",
    "    df=normalize_dec_mat(df,w)\n",
    "    vpos,vneg=calculate_ideal_solutions(df,imp)\n",
    "    scores = calculate_topsis_scores(df, vpos, vneg)\n",
    "    df['Topsis Score'] = scores\n",
    "    df['Rank'] = df['Topsis Score'].rank(ascending=False).astype(int)\n",
    "    return df\n",
    "    "
   ]
  },
  {
   "cell_type": "code",
   "execution_count": 7,
   "metadata": {},
   "outputs": [],
   "source": [
    "df = pd.read_excel('102203508-data.xlsx')\n",
    "weights = \"0.25,0.25,0.25,0.25,0.25\"\n",
    "impacts = \"-,+,+,+,+\"\n",
    "df=topsis(df, weights, impacts)\n",
    "df.to_csv('102203508-result.csv')"
   ]
  }
 ],
 "metadata": {
  "kernelspec": {
   "display_name": "Python 3",
   "language": "python",
   "name": "python3"
  },
  "language_info": {
   "codemirror_mode": {
    "name": "ipython",
    "version": 3
   },
   "file_extension": ".py",
   "mimetype": "text/x-python",
   "name": "python",
   "nbconvert_exporter": "python",
   "pygments_lexer": "ipython3",
   "version": "3.11.5"
  }
 },
 "nbformat": 4,
 "nbformat_minor": 2
}
